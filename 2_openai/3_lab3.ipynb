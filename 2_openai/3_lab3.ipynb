{
 "cells": [
  {
   "cell_type": "markdown",
   "metadata": {},
   "source": [
    "## Week 2 Day 3\n",
    "\n",
    "Now we get to more detail:\n",
    "\n",
    "1. Different models\n",
    "\n",
    "2. Structured Outputs\n",
    "\n",
    "3. Guardrails"
   ]
  },
  {
   "cell_type": "code",
   "execution_count": 43,
   "metadata": {},
   "outputs": [],
   "source": [
    "from dotenv import load_dotenv\n",
    "from openai import AsyncOpenAI\n",
    "from agents import Agent, Runner, trace, function_tool, OpenAIChatCompletionsModel, input_guardrail, GuardrailFunctionOutput\n",
    "from typing import Dict\n",
    "import sendgrid\n",
    "import os\n",
    "from sendgrid.helpers.mail import Mail, Email, To, Content\n",
    "from pydantic import BaseModel, Field"
   ]
  },
  {
   "cell_type": "code",
   "execution_count": 19,
   "metadata": {},
   "outputs": [
    {
     "data": {
      "text/plain": [
       "True"
      ]
     },
     "execution_count": 19,
     "metadata": {},
     "output_type": "execute_result"
    }
   ],
   "source": [
    "load_dotenv(override=True)"
   ]
  },
  {
   "cell_type": "code",
   "execution_count": 20,
   "metadata": {},
   "outputs": [
    {
     "name": "stdout",
     "output_type": "stream",
     "text": [
      "OpenAI API Key exists and begins sk-proj-\n",
      "Google API Key exists and begins AI\n",
      "DeepSeek API Key exists and begins sk-\n",
      "Groq API Key exists and begins gsk_\n"
     ]
    }
   ],
   "source": [
    "openai_api_key = os.getenv('OPENAI_API_KEY')\n",
    "google_api_key = os.getenv('GOOGLE_API_KEY')\n",
    "deepseek_api_key = os.getenv('DEEPSEEK_API_KEY')\n",
    "groq_api_key = os.getenv('GROQ_API_KEY')\n",
    "\n",
    "if openai_api_key:\n",
    "    print(f\"OpenAI API Key exists and begins {openai_api_key[:8]}\")\n",
    "else:\n",
    "    print(\"OpenAI API Key not set\")\n",
    "\n",
    "if google_api_key:\n",
    "    print(f\"Google API Key exists and begins {google_api_key[:2]}\")\n",
    "else:\n",
    "    print(\"Google API Key not set (and this is optional)\")\n",
    "\n",
    "if deepseek_api_key:\n",
    "    print(f\"DeepSeek API Key exists and begins {deepseek_api_key[:3]}\")\n",
    "else:\n",
    "    print(\"DeepSeek API Key not set (and this is optional)\")\n",
    "\n",
    "if groq_api_key:\n",
    "    print(f\"Groq API Key exists and begins {groq_api_key[:4]}\")\n",
    "else:\n",
    "    print(\"Groq API Key not set (and this is optional)\")"
   ]
  },
  {
   "cell_type": "code",
   "execution_count": 21,
   "metadata": {},
   "outputs": [],
   "source": [
    "instructions1 = \"You are a sales agent working for ComplAI, \\\n",
    "a company that provides a SaaS tool for ensuring SOC2 compliance and preparing for audits, powered by AI. \\\n",
    "You write professional, serious cold emails.\"\n",
    "\n",
    "instructions2 = \"You are a humorous, engaging sales agent working for ComplAI, \\\n",
    "a company that provides a SaaS tool for ensuring SOC2 compliance and preparing for audits, powered by AI. \\\n",
    "You write witty, engaging cold emails that are likely to get a response.\"\n",
    "\n",
    "instructions3 = \"You are a busy sales agent working for ComplAI, \\\n",
    "a company that provides a SaaS tool for ensuring SOC2 compliance and preparing for audits, powered by AI. \\\n",
    "You write concise, to the point cold emails.\""
   ]
  },
  {
   "cell_type": "markdown",
   "metadata": {},
   "source": [
    "### It's easy to use any models with OpenAI compatible endpoints"
   ]
  },
  {
   "cell_type": "code",
   "execution_count": 22,
   "metadata": {},
   "outputs": [],
   "source": [
    "GEMINI_BASE_URL = \"https://generativelanguage.googleapis.com/v1beta/openai/\"\n",
    "DEEPSEEK_BASE_URL = \"https://api.deepseek.com/v1\"\n",
    "GROQ_BASE_URL = \"https://api.groq.com/openai/v1\""
   ]
  },
  {
   "cell_type": "code",
   "execution_count": 23,
   "metadata": {},
   "outputs": [],
   "source": [
    "\n",
    "deepseek_client = AsyncOpenAI(base_url=DEEPSEEK_BASE_URL, api_key=deepseek_api_key)\n",
    "gemini_client = AsyncOpenAI(base_url=GEMINI_BASE_URL, api_key=google_api_key)\n",
    "groq_client = AsyncOpenAI(base_url=GROQ_BASE_URL, api_key=groq_api_key)\n",
    "\n",
    "deepseek_model = OpenAIChatCompletionsModel(model=\"deepseek-chat\", openai_client=deepseek_client)\n",
    "gemini_model = OpenAIChatCompletionsModel(model=\"gemini-2.0-flash\", openai_client=gemini_client)\n",
    "llama3_3_model = OpenAIChatCompletionsModel(model=\"llama-3.3-70b-versatile\", openai_client=groq_client)"
   ]
  },
  {
   "cell_type": "code",
   "execution_count": 24,
   "metadata": {},
   "outputs": [],
   "source": [
    "sales_agent1 = Agent(name=\"DeepSeek Sales Agent\", instructions=instructions1, model=deepseek_model)\n",
    "sales_agent2 =  Agent(name=\"Gemini Sales Agent\", instructions=instructions2, model=gemini_model)\n",
    "sales_agent3  = Agent(name=\"Llama3.3 Sales Agent\",instructions=instructions3,model=llama3_3_model)"
   ]
  },
  {
   "cell_type": "code",
   "execution_count": 25,
   "metadata": {},
   "outputs": [],
   "source": [
    "description = \"Write a cold sales email\"\n",
    "\n",
    "tool1 = sales_agent1.as_tool(tool_name=\"sales_agent1\", tool_description=description)\n",
    "tool2 = sales_agent2.as_tool(tool_name=\"sales_agent2\", tool_description=description)\n",
    "tool3 = sales_agent3.as_tool(tool_name=\"sales_agent3\", tool_description=description)"
   ]
  },
  {
   "cell_type": "code",
   "execution_count": 26,
   "metadata": {},
   "outputs": [],
   "source": [
    "@function_tool\n",
    "def send_html_email(subject: str, html_body: str) -> Dict[str, str]:\n",
    "    \"\"\" Send out an email with the given subject and HTML body to all sales prospects \"\"\"\n",
    "    sg = sendgrid.SendGridAPIClient(api_key=os.environ.get('SENDGRID_API_KEY'))\n",
    "    from_email = Email(\"hafnium49@gmail.com\")  # Email(\"ed@edwarddonner.com\")  # Change to your verified sender\n",
    "    to_email = To(\"chemistry49@hotmail.co.jp\")  # To(\"ed.donner@gmail.com\")  # Change to your recipient\n",
    "    content = Content(\"text/html\", html_body)\n",
    "    mail = Mail(from_email, to_email, subject, content).get()\n",
    "    sg.client.mail.send.post(request_body=mail)\n",
    "    return {\"status\": \"success\"}"
   ]
  },
  {
   "cell_type": "code",
   "execution_count": 27,
   "metadata": {},
   "outputs": [],
   "source": [
    "subject_instructions = \"You can write a subject for a cold sales email. \\\n",
    "You are given a message and you need to write a subject for an email that is likely to get a response.\"\n",
    "\n",
    "html_instructions = \"You can convert a text email body to an HTML email body. \\\n",
    "You are given a text email body which might have some markdown \\\n",
    "and you need to convert it to an HTML email body with simple, clear, compelling layout and design.\"\n",
    "\n",
    "subject_writer = Agent(name=\"Email subject writer\", instructions=subject_instructions, model=\"gpt-4o-mini\")\n",
    "subject_tool = subject_writer.as_tool(tool_name=\"subject_writer\", tool_description=\"Write a subject for a cold sales email\")\n",
    "\n",
    "html_converter = Agent(name=\"HTML email body converter\", instructions=html_instructions, model=\"gpt-4o-mini\")\n",
    "html_tool = html_converter.as_tool(tool_name=\"html_converter\",tool_description=\"Convert a text email body to an HTML email body\")"
   ]
  },
  {
   "cell_type": "code",
   "execution_count": 28,
   "metadata": {},
   "outputs": [],
   "source": [
    "email_tools = [subject_tool, html_tool, send_html_email]"
   ]
  },
  {
   "cell_type": "code",
   "execution_count": 29,
   "metadata": {},
   "outputs": [],
   "source": [
    "instructions =\"You are an email formatter and sender. You receive the body of an email to be sent. \\\n",
    "You first use the subject_writer tool to write a subject for the email, then use the html_converter tool to convert the body to HTML. \\\n",
    "Finally, you use the send_html_email tool to send the email with the subject and HTML body.\"\n",
    "\n",
    "\n",
    "emailer_agent = Agent(\n",
    "    name=\"Email Manager\",\n",
    "    instructions=instructions,\n",
    "    tools=email_tools,\n",
    "    model=\"gpt-4o-mini\",\n",
    "    handoff_description=\"Convert an email to HTML and send it\")"
   ]
  },
  {
   "cell_type": "code",
   "execution_count": 30,
   "metadata": {},
   "outputs": [],
   "source": [
    "tools = [tool1, tool2, tool3]\n",
    "handoffs = [emailer_agent]"
   ]
  },
  {
   "cell_type": "code",
   "execution_count": 31,
   "metadata": {},
   "outputs": [],
   "source": [
    "sales_manager_instructions = \"\"\"\n",
    "You are a Sales Manager at ComplAI. Your goal is to find the single best cold sales email using the sales_agent tools.\n",
    " \n",
    "Follow these steps carefully:\n",
    "1. Generate Drafts: Use all three sales_agent tools to generate three different email drafts. Do not proceed until all three drafts are ready.\n",
    " \n",
    "2. Evaluate and Select: Review the drafts and choose the single best email using your judgment of which one is most effective.\n",
    "You can use the tools multiple times if you're not satisfied with the results from the first try.\n",
    " \n",
    "3. Handoff for Sending: Pass ONLY the winning email draft to the 'Email Manager' agent. The Email Manager will take care of formatting and sending.\n",
    " \n",
    "Crucial Rules:\n",
    "- You must use the sales agent tools to generate the drafts — do not write them yourself.\n",
    "- You must hand off exactly ONE email to the Email Manager — never more than one.\n",
    "\"\"\"\n",
    "\n",
    "\n",
    "sales_manager = Agent(\n",
    "    name=\"Sales Manager\",\n",
    "    instructions=sales_manager_instructions,\n",
    "    tools=tools,\n",
    "    handoffs=handoffs,\n",
    "    model=\"gpt-4o-mini\")\n",
    "\n",
    "message = \"Send out a cold sales email addressed to Dear CEO from Alice\"\n",
    "\n",
    "with trace(\"Automated SDR\"):\n",
    "    result = await Runner.run(sales_manager, message)"
   ]
  },
  {
   "cell_type": "markdown",
   "metadata": {},
   "source": [
    "## Check out the trace:\n",
    "\n",
    "https://platform.openai.com/traces"
   ]
  },
  {
   "cell_type": "code",
   "execution_count": 32,
   "metadata": {},
   "outputs": [],
   "source": [
    "class NameCheckOutput(BaseModel):\n",
    "    is_name_in_message: bool\n",
    "    name: str\n",
    "\n",
    "guardrail_agent = Agent( \n",
    "    name=\"Name check\",\n",
    "    instructions=\"Check if the user is including someone's personal name in what they want you to do.\",\n",
    "    output_type=NameCheckOutput,\n",
    "    model=\"gpt-4o-mini\"\n",
    ")"
   ]
  },
  {
   "cell_type": "code",
   "execution_count": 33,
   "metadata": {},
   "outputs": [],
   "source": [
    "@input_guardrail\n",
    "async def guardrail_against_name(ctx, agent, message):\n",
    "    result = await Runner.run(guardrail_agent, message, context=ctx.context)\n",
    "    is_name_in_message = result.final_output.is_name_in_message\n",
    "    return GuardrailFunctionOutput(output_info={\"found_name\": result.final_output},tripwire_triggered=is_name_in_message)"
   ]
  },
  {
   "cell_type": "code",
   "execution_count": 34,
   "metadata": {},
   "outputs": [
    {
     "ename": "InputGuardrailTripwireTriggered",
     "evalue": "Guardrail InputGuardrail triggered tripwire",
     "output_type": "error",
     "traceback": [
      "\u001b[31m---------------------------------------------------------------------------\u001b[39m",
      "\u001b[31mInputGuardrailTripwireTriggered\u001b[39m           Traceback (most recent call last)",
      "\u001b[36mCell\u001b[39m\u001b[36m \u001b[39m\u001b[32mIn[34]\u001b[39m\u001b[32m, line 13\u001b[39m\n\u001b[32m     10\u001b[39m message = \u001b[33m\"\u001b[39m\u001b[33mSend out a cold sales email addressed to Dear CEO from Alice\u001b[39m\u001b[33m\"\u001b[39m\n\u001b[32m     12\u001b[39m \u001b[38;5;28;01mwith\u001b[39;00m trace(\u001b[33m\"\u001b[39m\u001b[33mProtected Automated SDR\u001b[39m\u001b[33m\"\u001b[39m):\n\u001b[32m---> \u001b[39m\u001b[32m13\u001b[39m     result = \u001b[38;5;28;01mawait\u001b[39;00m Runner.run(careful_sales_manager, message)\n",
      "\u001b[36mFile \u001b[39m\u001b[32m~/agents/.venv/lib/python3.12/site-packages/agents/run.py:199\u001b[39m, in \u001b[36mRunner.run\u001b[39m\u001b[34m(cls, starting_agent, input, context, max_turns, hooks, run_config, previous_response_id)\u001b[39m\n\u001b[32m    172\u001b[39m \u001b[38;5;250m\u001b[39m\u001b[33;03m\"\"\"Run a workflow starting at the given agent. The agent will run in a loop until a final\u001b[39;00m\n\u001b[32m    173\u001b[39m \u001b[33;03moutput is generated. The loop runs like so:\u001b[39;00m\n\u001b[32m    174\u001b[39m \u001b[33;03m1. The agent is invoked with the given input.\u001b[39;00m\n\u001b[32m   (...)\u001b[39m\u001b[32m    196\u001b[39m \u001b[33;03m    agent. Agents may perform handoffs, so we don't know the specific type of the output.\u001b[39;00m\n\u001b[32m    197\u001b[39m \u001b[33;03m\"\"\"\u001b[39;00m\n\u001b[32m    198\u001b[39m runner = DEFAULT_AGENT_RUNNER\n\u001b[32m--> \u001b[39m\u001b[32m199\u001b[39m \u001b[38;5;28;01mreturn\u001b[39;00m \u001b[38;5;28;01mawait\u001b[39;00m runner.run(\n\u001b[32m    200\u001b[39m     starting_agent,\n\u001b[32m    201\u001b[39m     \u001b[38;5;28minput\u001b[39m,\n\u001b[32m    202\u001b[39m     context=context,\n\u001b[32m    203\u001b[39m     max_turns=max_turns,\n\u001b[32m    204\u001b[39m     hooks=hooks,\n\u001b[32m    205\u001b[39m     run_config=run_config,\n\u001b[32m    206\u001b[39m     previous_response_id=previous_response_id,\n\u001b[32m    207\u001b[39m )\n",
      "\u001b[36mFile \u001b[39m\u001b[32m~/agents/.venv/lib/python3.12/site-packages/agents/run.py:395\u001b[39m, in \u001b[36mAgentRunner.run\u001b[39m\u001b[34m(self, starting_agent, input, **kwargs)\u001b[39m\n\u001b[32m    390\u001b[39m logger.debug(\n\u001b[32m    391\u001b[39m     \u001b[33mf\u001b[39m\u001b[33m\"\u001b[39m\u001b[33mRunning agent \u001b[39m\u001b[38;5;132;01m{\u001b[39;00mcurrent_agent.name\u001b[38;5;132;01m}\u001b[39;00m\u001b[33m (turn \u001b[39m\u001b[38;5;132;01m{\u001b[39;00mcurrent_turn\u001b[38;5;132;01m}\u001b[39;00m\u001b[33m)\u001b[39m\u001b[33m\"\u001b[39m,\n\u001b[32m    392\u001b[39m )\n\u001b[32m    394\u001b[39m \u001b[38;5;28;01mif\u001b[39;00m current_turn == \u001b[32m1\u001b[39m:\n\u001b[32m--> \u001b[39m\u001b[32m395\u001b[39m     input_guardrail_results, turn_result = \u001b[38;5;28;01mawait\u001b[39;00m asyncio.gather(\n\u001b[32m    396\u001b[39m         \u001b[38;5;28mself\u001b[39m._run_input_guardrails(\n\u001b[32m    397\u001b[39m             starting_agent,\n\u001b[32m    398\u001b[39m             starting_agent.input_guardrails\n\u001b[32m    399\u001b[39m             + (run_config.input_guardrails \u001b[38;5;129;01mor\u001b[39;00m []),\n\u001b[32m    400\u001b[39m             copy.deepcopy(\u001b[38;5;28minput\u001b[39m),\n\u001b[32m    401\u001b[39m             context_wrapper,\n\u001b[32m    402\u001b[39m         ),\n\u001b[32m    403\u001b[39m         \u001b[38;5;28mself\u001b[39m._run_single_turn(\n\u001b[32m    404\u001b[39m             agent=current_agent,\n\u001b[32m    405\u001b[39m             all_tools=all_tools,\n\u001b[32m    406\u001b[39m             original_input=original_input,\n\u001b[32m    407\u001b[39m             generated_items=generated_items,\n\u001b[32m    408\u001b[39m             hooks=hooks,\n\u001b[32m    409\u001b[39m             context_wrapper=context_wrapper,\n\u001b[32m    410\u001b[39m             run_config=run_config,\n\u001b[32m    411\u001b[39m             should_run_agent_start_hooks=should_run_agent_start_hooks,\n\u001b[32m    412\u001b[39m             tool_use_tracker=tool_use_tracker,\n\u001b[32m    413\u001b[39m             previous_response_id=previous_response_id,\n\u001b[32m    414\u001b[39m         ),\n\u001b[32m    415\u001b[39m     )\n\u001b[32m    416\u001b[39m \u001b[38;5;28;01melse\u001b[39;00m:\n\u001b[32m    417\u001b[39m     turn_result = \u001b[38;5;28;01mawait\u001b[39;00m \u001b[38;5;28mself\u001b[39m._run_single_turn(\n\u001b[32m    418\u001b[39m         agent=current_agent,\n\u001b[32m    419\u001b[39m         all_tools=all_tools,\n\u001b[32m   (...)\u001b[39m\u001b[32m    427\u001b[39m         previous_response_id=previous_response_id,\n\u001b[32m    428\u001b[39m     )\n",
      "\u001b[36mFile \u001b[39m\u001b[32m~/agents/.venv/lib/python3.12/site-packages/agents/run.py:1003\u001b[39m, in \u001b[36mAgentRunner._run_input_guardrails\u001b[39m\u001b[34m(cls, agent, guardrails, input, context)\u001b[39m\n\u001b[32m    996\u001b[39m         t.cancel()\n\u001b[32m    997\u001b[39m     _error_tracing.attach_error_to_current_span(\n\u001b[32m    998\u001b[39m         SpanError(\n\u001b[32m    999\u001b[39m             message=\u001b[33m\"\u001b[39m\u001b[33mGuardrail tripwire triggered\u001b[39m\u001b[33m\"\u001b[39m,\n\u001b[32m   1000\u001b[39m             data={\u001b[33m\"\u001b[39m\u001b[33mguardrail\u001b[39m\u001b[33m\"\u001b[39m: result.guardrail.get_name()},\n\u001b[32m   1001\u001b[39m         )\n\u001b[32m   1002\u001b[39m     )\n\u001b[32m-> \u001b[39m\u001b[32m1003\u001b[39m     \u001b[38;5;28;01mraise\u001b[39;00m InputGuardrailTripwireTriggered(result)\n\u001b[32m   1004\u001b[39m \u001b[38;5;28;01melse\u001b[39;00m:\n\u001b[32m   1005\u001b[39m     guardrail_results.append(result)\n",
      "\u001b[31mInputGuardrailTripwireTriggered\u001b[39m: Guardrail InputGuardrail triggered tripwire"
     ]
    }
   ],
   "source": [
    "careful_sales_manager = Agent(\n",
    "    name=\"Sales Manager\",\n",
    "    instructions=sales_manager_instructions,\n",
    "    tools=tools,\n",
    "    handoffs=[emailer_agent],\n",
    "    model=\"gpt-4o-mini\",\n",
    "    input_guardrails=[guardrail_against_name]\n",
    "    )\n",
    "\n",
    "message = \"Send out a cold sales email addressed to Dear CEO from Alice\"\n",
    "\n",
    "with trace(\"Protected Automated SDR\"):\n",
    "    result = await Runner.run(careful_sales_manager, message)"
   ]
  },
  {
   "cell_type": "markdown",
   "metadata": {},
   "source": [
    "## Check out the trace:\n",
    "\n",
    "https://platform.openai.com/traces"
   ]
  },
  {
   "cell_type": "code",
   "execution_count": 35,
   "metadata": {},
   "outputs": [],
   "source": [
    "\n",
    "message = \"Send out a cold sales email addressed to Dear CEO from Head of Business Development\"\n",
    "\n",
    "with trace(\"Protected Automated SDR\"):\n",
    "    result = await Runner.run(careful_sales_manager, message)"
   ]
  },
  {
   "cell_type": "markdown",
   "metadata": {},
   "source": [
    "<table style=\"margin: 0; text-align: left; width:100%\">\n",
    "    <tr>\n",
    "        <td style=\"width: 150px; height: 150px; vertical-align: middle;\">\n",
    "            <img src=\"../assets/exercise.png\" width=\"150\" height=\"150\" style=\"display: block;\" />\n",
    "        </td>\n",
    "        <td>\n",
    "            <h2 style=\"color:#ff7800;\">Exercise</h2>\n",
    "            <span style=\"color:#ff7800;\">• Try different models<br/>• Add more input and output guardrails<br/>• Use structured outputs for the email generation\n",
    "            </span>\n",
    "        </td>\n",
    "    </tr>\n",
    "</table>"
   ]
  },
  {
   "cell_type": "markdown",
   "metadata": {},
   "source": []
  },
  {
   "cell_type": "markdown",
   "metadata": {},
   "source": [
    "## 🎯 Exercise Solutions\n",
    "\n",
    "### Part 1: Try Different Models\n",
    "\n",
    "Let's experiment with different model combinations for the sales agents."
   ]
  },
  {
   "cell_type": "code",
   "execution_count": 36,
   "metadata": {},
   "outputs": [
    {
     "name": "stdout",
     "output_type": "stream",
     "text": [
      "✅ Created different model combinations for testing!\n"
     ]
    }
   ],
   "source": [
    "# Try different model combinations\n",
    "# Create agents with different models - mixing and matching\n",
    "\n",
    "# Option 1: All using GPT-4o for better quality\n",
    "sales_agent_gpt4o_1 = Agent(name=\"GPT-4o Sales Agent 1\", instructions=instructions1, model=\"gpt-4o\")\n",
    "sales_agent_gpt4o_2 = Agent(name=\"GPT-4o Sales Agent 2\", instructions=instructions2, model=\"gpt-4o\")\n",
    "sales_agent_gpt4o_3 = Agent(name=\"GPT-4o Sales Agent 3\", instructions=instructions3, model=\"gpt-4o\")\n",
    "\n",
    "# Option 2: Mix of fast and smart models\n",
    "sales_agent_mixed_1 = Agent(name=\"DeepSeek Sales Agent\", instructions=instructions1, model=deepseek_model)\n",
    "sales_agent_mixed_2 = Agent(name=\"GPT-4o Sales Agent\", instructions=instructions2, model=\"gpt-4o\")\n",
    "sales_agent_mixed_3 = Agent(name=\"Gemini Sales Agent\", instructions=instructions3, model=gemini_model)\n",
    "\n",
    "# Create tools from the new agents\n",
    "gpt4o_tool1 = sales_agent_gpt4o_1.as_tool(tool_name=\"gpt4o_sales_agent1\", tool_description=\"Write a professional cold sales email using GPT-4o\")\n",
    "gpt4o_tool2 = sales_agent_gpt4o_2.as_tool(tool_name=\"gpt4o_sales_agent2\", tool_description=\"Write a witty cold sales email using GPT-4o\")\n",
    "gpt4o_tool3 = sales_agent_gpt4o_3.as_tool(tool_name=\"gpt4o_sales_agent3\", tool_description=\"Write a concise cold sales email using GPT-4o\")\n",
    "\n",
    "mixed_tool1 = sales_agent_mixed_1.as_tool(tool_name=\"mixed_sales_agent1\", tool_description=\"Write a professional cold sales email using DeepSeek\")\n",
    "mixed_tool2 = sales_agent_mixed_2.as_tool(tool_name=\"mixed_sales_agent2\", tool_description=\"Write a witty cold sales email using GPT-4o\")\n",
    "mixed_tool3 = sales_agent_mixed_3.as_tool(tool_name=\"mixed_sales_agent3\", tool_description=\"Write a concise cold sales email using Gemini\")\n",
    "\n",
    "print(\"✅ Created different model combinations for testing!\")"
   ]
  },
  {
   "cell_type": "markdown",
   "metadata": {},
   "source": [
    "### Part 2: Add More Input Guardrails\n",
    "\n",
    "Let's add additional guardrails to protect against:\n",
    "- Inappropriate language\n",
    "- Competitor mentions\n",
    "- Pricing promises\n",
    "- Legal/compliance issues"
   ]
  },
  {
   "cell_type": "code",
   "execution_count": 37,
   "metadata": {},
   "outputs": [
    {
     "name": "stdout",
     "output_type": "stream",
     "text": [
      "✅ Guardrail 1: Inappropriate content checker created\n"
     ]
    }
   ],
   "source": [
    "# Guardrail 1: Check for inappropriate language or offensive content\n",
    "class InappropriateContentCheck(BaseModel):\n",
    "    has_inappropriate_content: bool\n",
    "    reason: str\n",
    "\n",
    "inappropriate_content_agent = Agent(\n",
    "    name=\"Inappropriate Content Check\",\n",
    "    instructions=\"Check if the message contains inappropriate, offensive, or unprofessional language. Return true if inappropriate content is found.\",\n",
    "    output_type=InappropriateContentCheck,\n",
    "    model=\"gpt-4o-mini\"\n",
    ")\n",
    "\n",
    "@input_guardrail\n",
    "async def guardrail_against_inappropriate_content(ctx, agent, message):\n",
    "    result = await Runner.run(inappropriate_content_agent, message, context=ctx.context)\n",
    "    has_inappropriate = result.final_output.has_inappropriate_content\n",
    "    return GuardrailFunctionOutput(\n",
    "        output_info={\"inappropriate_check\": result.final_output},\n",
    "        tripwire_triggered=has_inappropriate\n",
    "    )\n",
    "\n",
    "print(\"✅ Guardrail 1: Inappropriate content checker created\")"
   ]
  },
  {
   "cell_type": "code",
   "execution_count": 38,
   "metadata": {},
   "outputs": [
    {
     "name": "stdout",
     "output_type": "stream",
     "text": [
      "✅ Guardrail 2: Competitor mention checker created\n"
     ]
    }
   ],
   "source": [
    "# Guardrail 2: Check for competitor mentions\n",
    "class CompetitorCheck(BaseModel):\n",
    "    mentions_competitor: bool\n",
    "    competitor_name: str\n",
    "\n",
    "competitor_check_agent = Agent(\n",
    "    name=\"Competitor Check\",\n",
    "    instructions=\"Check if the message mentions any competitors like Salesforce, HubSpot, Vanta, Drata, or other SOC2 compliance tools. Return true if competitors are mentioned.\",\n",
    "    output_type=CompetitorCheck,\n",
    "    model=\"gpt-4o-mini\"\n",
    ")\n",
    "\n",
    "@input_guardrail\n",
    "async def guardrail_against_competitors(ctx, agent, message):\n",
    "    result = await Runner.run(competitor_check_agent, message, context=ctx.context)\n",
    "    mentions_competitor = result.final_output.mentions_competitor\n",
    "    return GuardrailFunctionOutput(\n",
    "        output_info={\"competitor_check\": result.final_output},\n",
    "        tripwire_triggered=mentions_competitor\n",
    "    )\n",
    "\n",
    "print(\"✅ Guardrail 2: Competitor mention checker created\")"
   ]
  },
  {
   "cell_type": "code",
   "execution_count": 39,
   "metadata": {},
   "outputs": [
    {
     "name": "stdout",
     "output_type": "stream",
     "text": [
      "✅ Guardrail 3: Pricing promise checker created\n"
     ]
    }
   ],
   "source": [
    "# Guardrail 3: Check for unauthorized pricing promises\n",
    "class PricingCheck(BaseModel):\n",
    "    mentions_pricing: bool\n",
    "    pricing_details: str\n",
    "\n",
    "pricing_check_agent = Agent(\n",
    "    name=\"Pricing Check\",\n",
    "    instructions=\"Check if the message includes specific pricing, discounts, or money-back guarantees that haven't been approved. Return true if unauthorized pricing is mentioned.\",\n",
    "    output_type=PricingCheck,\n",
    "    model=\"gpt-4o-mini\"\n",
    ")\n",
    "\n",
    "@input_guardrail\n",
    "async def guardrail_against_pricing(ctx, agent, message):\n",
    "    result = await Runner.run(pricing_check_agent, message, context=ctx.context)\n",
    "    mentions_pricing = result.final_output.mentions_pricing\n",
    "    return GuardrailFunctionOutput(\n",
    "        output_info={\"pricing_check\": result.final_output},\n",
    "        tripwire_triggered=mentions_pricing\n",
    "    )\n",
    "\n",
    "print(\"✅ Guardrail 3: Pricing promise checker created\")"
   ]
  },
  {
   "cell_type": "markdown",
   "metadata": {},
   "source": [
    "### Part 3: Add Output Guardrails\n",
    "\n",
    "Output guardrails check the agent's response before it's sent out."
   ]
  },
  {
   "cell_type": "code",
   "execution_count": 40,
   "metadata": {},
   "outputs": [
    {
     "name": "stdout",
     "output_type": "stream",
     "text": [
      "✅ Output Guardrail 1: Email quality checker created\n"
     ]
    }
   ],
   "source": [
    "from agents import output_guardrail\n",
    "\n",
    "# Output Guardrail 1: Check email quality before sending\n",
    "class EmailQualityCheck(BaseModel):\n",
    "    is_professional: bool\n",
    "    has_clear_cta: bool\n",
    "    is_too_long: bool\n",
    "    quality_score: int  # 1-10\n",
    "    issues: list[str]\n",
    "\n",
    "email_quality_agent = Agent(\n",
    "    name=\"Email Quality Check\",\n",
    "    instructions=\"Evaluate if the email is professional, has a clear call-to-action, isn't too long (over 300 words), and rate it 1-10. List any issues found.\",\n",
    "    output_type=EmailQualityCheck,\n",
    "    model=\"gpt-4o-mini\"\n",
    ")\n",
    "\n",
    "@output_guardrail\n",
    "async def guardrail_email_quality(ctx, agent, output):\n",
    "    result = await Runner.run(email_quality_agent, str(output), context=ctx.context)\n",
    "    quality_check = result.final_output\n",
    "    \n",
    "    # Trigger if quality is poor (score < 6) or unprofessional\n",
    "    trigger = quality_check.quality_score < 6 or not quality_check.is_professional\n",
    "    \n",
    "    return GuardrailFunctionOutput(\n",
    "        output_info={\"quality_check\": quality_check},\n",
    "        tripwire_triggered=trigger\n",
    "    )\n",
    "\n",
    "print(\"✅ Output Guardrail 1: Email quality checker created\")"
   ]
  },
  {
   "cell_type": "code",
   "execution_count": 41,
   "metadata": {},
   "outputs": [
    {
     "name": "stdout",
     "output_type": "stream",
     "text": [
      "✅ Output Guardrail 2: Compliance checker created\n"
     ]
    }
   ],
   "source": [
    "# Output Guardrail 2: Check for compliance issues\n",
    "class ComplianceCheck(BaseModel):\n",
    "    has_compliance_issues: bool\n",
    "    issues_found: list[str]\n",
    "    severity: str  # \"low\", \"medium\", \"high\"\n",
    "\n",
    "compliance_agent = Agent(\n",
    "    name=\"Compliance Check\",\n",
    "    instructions=\"Check the email for compliance issues like false claims, misleading statements, GDPR violations, CAN-SPAM violations, or guarantees we can't make.\",\n",
    "    output_type=ComplianceCheck,\n",
    "    model=\"gpt-4o-mini\"\n",
    ")\n",
    "\n",
    "@output_guardrail\n",
    "async def guardrail_compliance(ctx, agent, output):\n",
    "    result = await Runner.run(compliance_agent, str(output), context=ctx.context)\n",
    "    compliance_check = result.final_output\n",
    "    \n",
    "    # Trigger on medium or high severity issues\n",
    "    trigger = compliance_check.has_compliance_issues and compliance_check.severity in [\"medium\", \"high\"]\n",
    "    \n",
    "    return GuardrailFunctionOutput(\n",
    "        output_info={\"compliance_check\": compliance_check},\n",
    "        tripwire_triggered=trigger\n",
    "    )\n",
    "\n",
    "print(\"✅ Output Guardrail 2: Compliance checker created\")"
   ]
  },
  {
   "cell_type": "markdown",
   "metadata": {},
   "source": [
    "### Part 4: Use Structured Outputs for Email Generation\n",
    "\n",
    "Let's define a structured schema for cold emails with all the key components."
   ]
  },
  {
   "cell_type": "code",
   "execution_count": 44,
   "metadata": {},
   "outputs": [
    {
     "name": "stdout",
     "output_type": "stream",
     "text": [
      "✅ Structured email schema defined\n"
     ]
    }
   ],
   "source": [
    "# Define structured email schema\n",
    "class EmailSection(BaseModel):\n",
    "    opening: str = Field(description=\"Opening line that hooks the reader\")\n",
    "    problem_statement: str = Field(description=\"The pain point or problem the prospect faces\")\n",
    "    solution: str = Field(description=\"How ComplAI solves this problem\")\n",
    "    social_proof: str = Field(description=\"Brief mention of success stories or credibility\")\n",
    "    call_to_action: str = Field(description=\"Clear next step for the prospect\")\n",
    "    closing: str = Field(description=\"Professional closing line\")\n",
    "\n",
    "class StructuredEmail(BaseModel):\n",
    "    subject_line: str = Field(description=\"Compelling subject line for the email\")\n",
    "    greeting: str = Field(description=\"Personalized greeting\")\n",
    "    sections: EmailSection = Field(description=\"Main sections of the email\")\n",
    "    signature: str = Field(description=\"Email signature\")\n",
    "    tone: str = Field(description=\"The tone used (professional/witty/concise)\")\n",
    "    estimated_read_time: str = Field(description=\"Estimated time to read (e.g., '2 minutes')\")\n",
    "    key_message: str = Field(description=\"The one key takeaway from this email\")\n",
    "\n",
    "print(\"✅ Structured email schema defined\")"
   ]
  },
  {
   "cell_type": "code",
   "execution_count": 45,
   "metadata": {},
   "outputs": [
    {
     "name": "stdout",
     "output_type": "stream",
     "text": [
      "✅ Structured sales agent created\n"
     ]
    }
   ],
   "source": [
    "# Create structured email agents\n",
    "structured_instructions = \"\"\"You are a sales agent for ComplAI, a SaaS tool for SOC2 compliance powered by AI.\n",
    "Create a structured cold email with all required components: compelling subject, personalized greeting, \n",
    "problem statement, solution, social proof, call to action, and professional closing.\n",
    "Keep it concise but impactful.\"\"\"\n",
    "\n",
    "structured_sales_agent = Agent(\n",
    "    name=\"Structured Sales Agent\",\n",
    "    instructions=structured_instructions,\n",
    "    model=\"gpt-4o-mini\",\n",
    "    output_type=StructuredEmail\n",
    ")\n",
    "\n",
    "print(\"✅ Structured sales agent created\")"
   ]
  },
  {
   "cell_type": "markdown",
   "metadata": {},
   "source": [
    "### Part 5: Create a Super-Protected Sales Manager\n",
    "\n",
    "Combine all guardrails (input + output) into one highly protected agent."
   ]
  },
  {
   "cell_type": "code",
   "execution_count": 46,
   "metadata": {},
   "outputs": [
    {
     "name": "stdout",
     "output_type": "stream",
     "text": [
      "✅ Super Protected Sales Manager created with 4 input guardrails and 2 output guardrails!\n"
     ]
    }
   ],
   "source": [
    "# Create the ultimate protected sales manager with ALL guardrails\n",
    "super_protected_sales_manager = Agent(\n",
    "    name=\"Super Protected Sales Manager\",\n",
    "    instructions=sales_manager_instructions,\n",
    "    tools=tools,\n",
    "    handoffs=[emailer_agent],\n",
    "    model=\"gpt-4o-mini\",\n",
    "    input_guardrails=[\n",
    "        guardrail_against_name,\n",
    "        guardrail_against_inappropriate_content,\n",
    "        guardrail_against_competitors,\n",
    "        guardrail_against_pricing\n",
    "    ],\n",
    "    output_guardrails=[\n",
    "        guardrail_email_quality,\n",
    "        guardrail_compliance\n",
    "    ]\n",
    ")\n",
    "\n",
    "print(\"✅ Super Protected Sales Manager created with 4 input guardrails and 2 output guardrails!\")"
   ]
  },
  {
   "cell_type": "markdown",
   "metadata": {},
   "source": [
    "### Part 6: Test Different Models\n",
    "\n",
    "Let's test the GPT-4o models vs the mixed models to see quality differences."
   ]
  },
  {
   "cell_type": "code",
   "execution_count": 51,
   "metadata": {},
   "outputs": [
    {
     "name": "stdout",
     "output_type": "stream",
     "text": [
      "💡 GPT-4o test ready (commented out to save costs). Uncomment to run!\n"
     ]
    }
   ],
   "source": [
    "# Test with GPT-4o models (uncomment to run - will cost more)\n",
    "# gpt4o_tools = [gpt4o_tool1, gpt4o_tool2, gpt4o_tool3]\n",
    "# gpt4o_sales_manager = Agent(\n",
    "#     name=\"GPT-4o Sales Manager\",\n",
    "#     instructions=sales_manager_instructions,\n",
    "#     tools=gpt4o_tools,\n",
    "#     handoffs=[emailer_agent],\n",
    "#     model=\"gpt-4o\"\n",
    "# )\n",
    "\n",
    "# message = \"Send out a cold sales email addressed to Dear CTO from Head of Business Development\"\n",
    "# with trace(\"GPT-4o Automated SDR\"):\n",
    "#     result = await Runner.run(gpt4o_sales_manager, message)\n",
    "\n",
    "print(\"💡 GPT-4o test ready (commented out to save costs). Uncomment to run!\")"
   ]
  },
  {
   "cell_type": "markdown",
   "metadata": {},
   "source": [
    "### Part 7: Test Structured Output Generation\n",
    "\n",
    "Generate a structured email with all components properly organized."
   ]
  },
  {
   "cell_type": "code",
   "execution_count": 47,
   "metadata": {},
   "outputs": [
    {
     "name": "stdout",
     "output_type": "stream",
     "text": [
      "📧 Structured Email Generated!\n",
      "\n",
      "Subject: Streamline Your SOC2 Compliance Efforts with ComplAI\n",
      "Tone: professional\n",
      "Read Time: 2 minutes\n",
      "Key Message: ComplAI can streamline your SOC2 compliance efforts and save you valuable time.\n",
      "\n",
      "============================================================\n",
      "Hi [CTO's Name],\n",
      "\n",
      "Opening: I hope this message finds you well amidst the fast-paced world of fintech.\n",
      "\n",
      "Problem: Navigating the complexities of SOC2 compliance can be a daunting task for any fintech leader, especially with ever-evolving regulations and increasing demands from clients and partners.\n",
      "\n",
      "Solution: ComplAI simplifies this process with our AI-powered platform, helping your team automate compliance tasks, maintain documentation effortlessly, and reduce the time to achieve SOC2 certification by up to 50%.\n",
      "\n",
      "Proof: Companies like [Notable Client 1] and [Notable Client 2] have successfully leveraged ComplAI to achieve their compliance goals faster and more efficiently.\n",
      "\n",
      "CTA: I’d love to show you how ComplAI can transform your SOC2 compliance process. Are you available for a quick 20-minute call next week?\n",
      "\n",
      "Closing: Looking forward to your thoughts.\n",
      "\n",
      "Best,\\n[Your Name]  \\n[Your Job Title]  \\nComplAI  \\n[Your Phone Number]  \\n[Your Email]\n"
     ]
    }
   ],
   "source": [
    "# Generate a structured email\n",
    "message = \"Create a cold sales email for a CTO at a fintech company about SOC2 compliance\"\n",
    "\n",
    "with trace(\"Structured Email Generation\"):\n",
    "    result = await Runner.run(structured_sales_agent, message)\n",
    "    \n",
    "structured_email = result.final_output\n",
    "print(\"📧 Structured Email Generated!\\n\")\n",
    "print(f\"Subject: {structured_email.subject_line}\")\n",
    "print(f\"Tone: {structured_email.tone}\")\n",
    "print(f\"Read Time: {structured_email.estimated_read_time}\")\n",
    "print(f\"Key Message: {structured_email.key_message}\\n\")\n",
    "print(\"=\" * 60)\n",
    "print(f\"{structured_email.greeting}\\n\")\n",
    "print(f\"Opening: {structured_email.sections.opening}\\n\")\n",
    "print(f\"Problem: {structured_email.sections.problem_statement}\\n\")\n",
    "print(f\"Solution: {structured_email.sections.solution}\\n\")\n",
    "print(f\"Proof: {structured_email.sections.social_proof}\\n\")\n",
    "print(f\"CTA: {structured_email.sections.call_to_action}\\n\")\n",
    "print(f\"Closing: {structured_email.sections.closing}\\n\")\n",
    "print(structured_email.signature)"
   ]
  },
  {
   "cell_type": "markdown",
   "metadata": {},
   "source": [
    "### Part 8: Test Guardrails in Action\n",
    "\n",
    "Let's test scenarios that should trigger guardrails."
   ]
  },
  {
   "cell_type": "code",
   "execution_count": 48,
   "metadata": {},
   "outputs": [
    {
     "name": "stdout",
     "output_type": "stream",
     "text": [
      "🧪 Test 1: Testing name guardrail...\n",
      "⚠️ Guardrail triggered: Guardrail InputGuardrail triggered tripwire\n",
      "\n",
      "============================================================\n",
      "\n",
      "⚠️ Guardrail triggered: Guardrail InputGuardrail triggered tripwire\n",
      "\n",
      "============================================================\n",
      "\n"
     ]
    }
   ],
   "source": [
    "# Test 1: Name guardrail (should trigger)\n",
    "print(\"🧪 Test 1: Testing name guardrail...\")\n",
    "message1 = \"Send a cold sales email to John Smith at TechCorp\"\n",
    "\n",
    "try:\n",
    "    with trace(\"Test Name Guardrail\"):\n",
    "        result = await Runner.run(super_protected_sales_manager, message1)\n",
    "    print(\"✅ Email sent (no guardrail triggered)\")\n",
    "except Exception as e:\n",
    "    print(f\"⚠️ Guardrail triggered: {str(e)[:100]}\")\n",
    "\n",
    "print(\"\\n\" + \"=\"*60 + \"\\n\")"
   ]
  },
  {
   "cell_type": "code",
   "execution_count": 49,
   "metadata": {},
   "outputs": [
    {
     "name": "stdout",
     "output_type": "stream",
     "text": [
      "🧪 Test 2: Testing competitor guardrail...\n",
      "⚠️ Guardrail triggered: Guardrail InputGuardrail triggered tripwire\n",
      "\n",
      "============================================================\n",
      "\n",
      "⚠️ Guardrail triggered: Guardrail InputGuardrail triggered tripwire\n",
      "\n",
      "============================================================\n",
      "\n"
     ]
    }
   ],
   "source": [
    "# Test 2: Competitor mention (should trigger)\n",
    "print(\"🧪 Test 2: Testing competitor guardrail...\")\n",
    "message2 = \"Send an email comparing us to Vanta and why we're better\"\n",
    "\n",
    "try:\n",
    "    with trace(\"Test Competitor Guardrail\"):\n",
    "        result = await Runner.run(super_protected_sales_manager, message2)\n",
    "    print(\"✅ Email sent (no guardrail triggered)\")\n",
    "except Exception as e:\n",
    "    print(f\"⚠️ Guardrail triggered: {str(e)[:100]}\")\n",
    "\n",
    "print(\"\\n\" + \"=\"*60 + \"\\n\")"
   ]
  },
  {
   "cell_type": "code",
   "execution_count": 50,
   "metadata": {},
   "outputs": [
    {
     "name": "stdout",
     "output_type": "stream",
     "text": [
      "🧪 Test 3: Testing with safe message...\n",
      "✅ Email sent successfully! All guardrails passed.\n",
      "\n",
      "============================================================\n",
      "✅ Email sent successfully! All guardrails passed.\n",
      "\n",
      "============================================================\n"
     ]
    }
   ],
   "source": [
    "# Test 3: Safe message (should pass all guardrails)\n",
    "print(\"🧪 Test 3: Testing with safe message...\")\n",
    "message3 = \"Send a professional cold sales email to the Head of Security at a healthcare company\"\n",
    "\n",
    "try:\n",
    "    with trace(\"Test Safe Message\"):\n",
    "        result = await Runner.run(super_protected_sales_manager, message3)\n",
    "    print(\"✅ Email sent successfully! All guardrails passed.\")\n",
    "except Exception as e:\n",
    "    print(f\"⚠️ Guardrail triggered: {str(e)[:100]}\")\n",
    "\n",
    "print(\"\\n\" + \"=\"*60)"
   ]
  },
  {
   "cell_type": "markdown",
   "metadata": {},
   "source": [
    "---\n",
    "\n",
    "## 🎉 Exercise Complete!\n",
    "\n",
    "### What We Built:\n",
    "\n",
    "✅ **Different Models**: Created agents using GPT-4o, DeepSeek, Gemini, and Llama 3.3\n",
    "- Mixed model combinations for cost vs quality tradeoffs\n",
    "- Ready to test different models for comparison\n",
    "\n",
    "✅ **Input Guardrails** (4 total):\n",
    "1. **Name Check** - Blocks emails with personal names\n",
    "2. **Inappropriate Content** - Blocks offensive/unprofessional language  \n",
    "3. **Competitor Mentions** - Blocks references to competing products\n",
    "4. **Pricing Promises** - Blocks unauthorized pricing commitments\n",
    "\n",
    "✅ **Output Guardrails** (2 total):\n",
    "1. **Email Quality** - Checks professionalism, CTA, length, and scores 1-10\n",
    "2. **Compliance Check** - Validates no false claims, GDPR/CAN-SPAM violations\n",
    "\n",
    "✅ **Structured Outputs**:\n",
    "- Defined comprehensive `StructuredEmail` schema with all components\n",
    "- Created agent that generates emails with consistent structure\n",
    "- Includes metadata like tone, read time, and key message\n",
    "\n",
    "### Key Learnings:\n",
    "\n",
    "1. **Model Flexibility**: OpenAI Agents SDK works with any OpenAI-compatible API\n",
    "2. **Guardrail Layering**: Combine multiple input + output guardrails for defense-in-depth\n",
    "3. **Structured Outputs**: Ensure consistent, predictable responses with Pydantic schemas\n",
    "4. **Traceability**: All agent runs are traceable at https://platform.openai.com/traces\n",
    "\n",
    "### Next Steps:\n",
    "\n",
    "- Run the test cells to see guardrails in action\n",
    "- Experiment with different model combinations\n",
    "- Add more guardrails for your specific use case\n",
    "- Extend the structured email schema with more fields"
   ]
  },
  {
   "cell_type": "markdown",
   "metadata": {},
   "source": [
    "## 📊 Quick Reference\n",
    "\n",
    "### Run These Cells to Test:\n",
    "\n",
    "**Structured Email Generation:**\n",
    "```python\n",
    "# Already executed above - generates a well-structured email\n",
    "```\n",
    "\n",
    "**Test Guardrails:**\n",
    "```python\n",
    "# Cell with Test 1: Name guardrail (will block personal names)\n",
    "# Cell with Test 2: Competitor guardrail (will block competitor mentions)  \n",
    "# Cell with Test 3: Safe message (will pass all checks)\n",
    "```\n",
    "\n",
    "**Model Comparison:**\n",
    "```python\n",
    "# Uncomment the GPT-4o test to compare quality\n",
    "# Note: GPT-4o costs more but may produce higher quality results\n",
    "```\n",
    "\n",
    "### View Traces:\n",
    "All executions are tracked at: https://platform.openai.com/traces\n",
    "\n",
    "### Guardrail Summary:\n",
    "\n",
    "| Type | Guardrail | Purpose |\n",
    "|------|-----------|---------|\n",
    "| Input | Name Check | Blocks personal names |\n",
    "| Input | Inappropriate Content | Blocks offensive language |\n",
    "| Input | Competitor Check | Blocks competitor mentions |\n",
    "| Input | Pricing Check | Blocks unauthorized pricing |\n",
    "| Output | Email Quality | Ensures professional, well-structured emails |\n",
    "| Output | Compliance | Prevents legal/compliance violations |\n",
    "\n",
    "**Total Protection: 6 Guardrails** 🛡️"
   ]
  }
 ],
 "metadata": {
  "kernelspec": {
   "display_name": "agents (3.12.2)",
   "language": "python",
   "name": "python3"
  },
  "language_info": {
   "codemirror_mode": {
    "name": "ipython",
    "version": 3
   },
   "file_extension": ".py",
   "mimetype": "text/x-python",
   "name": "python",
   "nbconvert_exporter": "python",
   "pygments_lexer": "ipython3",
   "version": "3.12.2"
  }
 },
 "nbformat": 4,
 "nbformat_minor": 2
}
